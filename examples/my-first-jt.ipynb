{
 "cells": [
  {
   "cell_type": "code",
   "execution_count": 1,
   "metadata": {
    "collapsed": true
   },
   "outputs": [],
   "source": [
    "using TaylorSeries, TaylorIntegration"
   ]
  },
  {
   "cell_type": "code",
   "execution_count": 9,
   "metadata": {
    "collapsed": false
   },
   "outputs": [
    {
     "data": {
      "text/plain": [
       "jetcoeffs! (generic function with 1 method)"
      ]
     },
     "execution_count": 9,
     "metadata": {},
     "output_type": "execute_result"
    }
   ],
   "source": [
    "function jetcoeffs!{T<:Number,S<:Number}(eqsdiff, t0::T, x::Vector{Taylor1{S}})\n",
    "    order = x[1].order\n",
    "    xaux = similar(x)\n",
    "    for ord in 1:order\n",
    "        ordnext = ord+1\n",
    "        \n",
    "        # Set `xaux`, auxiliary vector of Taylor1 to order `ord`\n",
    "        @inbounds for j in eachindex(x)\n",
    "            xaux[j] = Taylor1( x[j].coeffs[1:ord] )\n",
    "        end\n",
    "        \n",
    "        # Equations of motion\n",
    "        # TODO! define a macro to optimize the eqsdiff\n",
    "        xdot = eqsdiff(t0, xaux)\n",
    "        \n",
    "        # Recursion relations\n",
    "        @inbounds for j in eachindex(x)\n",
    "            x[j].coeffs[ordnext] = xdot[j].coeffs[ord]/ord\n",
    "        end\n",
    "    end\n",
    "    nothing\n",
    "end"
   ]
  },
  {
   "cell_type": "code",
   "execution_count": 86,
   "metadata": {
    "collapsed": false
   },
   "outputs": [
    {
     "name": "stderr",
     "output_type": "stream",
     "text": [
      "WARNING: Method definition f(Any, Any) in module Main at In[78]:1 overwritten at In[86]:1.\n"
     ]
    },
    {
     "data": {
      "text/plain": [
       "f (generic function with 1 method)"
      ]
     },
     "execution_count": 86,
     "metadata": {},
     "output_type": "execute_result"
    }
   ],
   "source": [
    "f(t, x) = [x[2], -x[1]] #oscilador armónico"
   ]
  },
  {
   "cell_type": "code",
   "execution_count": 120,
   "metadata": {
    "collapsed": false
   },
   "outputs": [
    {
     "data": {
      "text/plain": [
       "2-element Array{TaylorSeries.TaylorN{Float64},1}:\n",
       "  1.0 ξ₁ + 𝒪(‖x‖⁵)\n",
       "  1.0 ξ₂ + 𝒪(‖x‖⁵)"
      ]
     },
     "execution_count": 120,
     "metadata": {},
     "output_type": "execute_result"
    }
   ],
   "source": [
    "p1, p2 = set_variables(\"ξ\", numvars=2, order=4)"
   ]
  },
  {
   "cell_type": "code",
   "execution_count": 121,
   "metadata": {
    "collapsed": false
   },
   "outputs": [
    {
     "data": {
      "text/plain": [
       "2-element Array{Float64,1}:\n",
       " 0.0\n",
       " 1.0"
      ]
     },
     "execution_count": 121,
     "metadata": {},
     "output_type": "execute_result"
    }
   ],
   "source": [
    "# x0 = [1.0, 0.0] # diff eq initial condition\n",
    "x0 = [0.0, 1.0] # diff eq initial condition"
   ]
  },
  {
   "cell_type": "code",
   "execution_count": 122,
   "metadata": {
    "collapsed": false
   },
   "outputs": [
    {
     "data": {
      "text/plain": [
       "2-element Array{TaylorSeries.TaylorN{Float64},1}:\n",
       "        1.0 ξ₁ + 𝒪(‖x‖⁵)\n",
       "  1.0 + 1.0 ξ₂ + 𝒪(‖x‖⁵)"
      ]
     },
     "execution_count": 122,
     "metadata": {},
     "output_type": "execute_result"
    }
   ],
   "source": [
    "x0TN = x0 + [p1, p2] #jet transport initial condition"
   ]
  },
  {
   "cell_type": "code",
   "execution_count": 123,
   "metadata": {
    "collapsed": false
   },
   "outputs": [
    {
     "data": {
      "text/plain": [
       "1-element Array{Array{TaylorSeries.TaylorN{Float64},1},1}:\n",
       " TaylorSeries.TaylorN{Float64}[ 1.0 ξ₁ + 𝒪(‖x‖⁵), 1.0 + 1.0 ξ₂ + 𝒪(‖x‖⁵)]"
      ]
     },
     "execution_count": 123,
     "metadata": {},
     "output_type": "execute_result"
    }
   ],
   "source": [
    "i=1\n",
    "order=25\n",
    "t0=0.0\n",
    "t=t0\n",
    "δt = 4pi/1000\n",
    "tmax=10.0\n",
    "tT=Float64[]\n",
    "# xT=Array{Float64,1}[]\n",
    "push!(tT, t0)\n",
    "# push!(xT, x0)\n",
    "\n",
    "vv_xTN = Vector{TaylorSeries.TaylorN{Float64}}[]\n",
    "push!(vv_xTN, x0TN)\n"
   ]
  },
  {
   "cell_type": "code",
   "execution_count": 124,
   "metadata": {
    "collapsed": false
   },
   "outputs": [
    {
     "data": {
      "text/plain": [
       "(1,0.0,0.012566370614359173)"
      ]
     },
     "execution_count": 124,
     "metadata": {},
     "output_type": "execute_result"
    }
   ],
   "source": [
    "i, t, δt"
   ]
  },
  {
   "cell_type": "code",
   "execution_count": 125,
   "metadata": {
    "collapsed": false
   },
   "outputs": [],
   "source": [
    "# while t<tmax\n",
    "while i<1001\n",
    "    xT = [Taylor1(vv_xTN[i][1], order), Taylor1(vv_xTN[i][2], order)]\n",
    "    jetcoeffs!(f, t, xT)\n",
    "    push!(vv_xTN, evaluate(xT, δt))\n",
    "    t=t+δt\n",
    "    push!(tT, t)\n",
    "    i+=1\n",
    "end"
   ]
  },
  {
   "cell_type": "code",
   "execution_count": 93,
   "metadata": {
    "collapsed": false
   },
   "outputs": [
    {
     "data": {
      "text/plain": [
       "(1001,12.566370614358947,0.012566370614359173)"
      ]
     },
     "execution_count": 93,
     "metadata": {},
     "output_type": "execute_result"
    }
   ],
   "source": [
    "i, t, δt"
   ]
  },
  {
   "cell_type": "code",
   "execution_count": 94,
   "metadata": {
    "collapsed": false
   },
   "outputs": [
    {
     "data": {
      "text/plain": [
       "2-element Array{TaylorSeries.TaylorN{Float64},1}:\n",
       "  3.139849491518021e-16 + 1.0000000000000009 ξ₁ - 3.139849491518021e-16 ξ₂ + 𝒪(‖x‖¹¹)\n",
       "   - 1.0000000000000009 + 3.139849491518021e-16 ξ₁ + 1.0000000000000009 ξ₂ + 𝒪(‖x‖¹¹)"
      ]
     },
     "execution_count": 94,
     "metadata": {},
     "output_type": "execute_result"
    }
   ],
   "source": [
    "vv_xTN[end]"
   ]
  },
  {
   "cell_type": "code",
   "execution_count": 135,
   "metadata": {
    "collapsed": false
   },
   "outputs": [
    {
     "data": {
      "text/plain": [
       "(1.1836717088447526,0.014142135623730958)"
      ]
     },
     "execution_count": 135,
     "metadata": {},
     "output_type": "execute_result"
    }
   ],
   "source": [
    "norm(map(x->evaluate(x, [0.01, 0.01]), vv_xTN[400])-x0), norm(map(x->evaluate(x, [0.01, 0.01]), vv_xTN[1])-x0)"
   ]
  },
  {
   "cell_type": "code",
   "execution_count": 127,
   "metadata": {
    "collapsed": false
   },
   "outputs": [],
   "source": [
    "delta1=0.1\n",
    "delta2=delta1\n",
    "xi1=Float64[]\n",
    "xi2=Float64[]\n",
    "xT=Float64[]\n",
    "yT=Float64[]\n",
    "push!(xi1, x0[1]+delta1)\n",
    "push!(xi2, x0[2]+delta2)\n",
    "push!(xT, x0[1])\n",
    "push!(yT, x0[2])\n",
    "\n",
    "\n",
    "for j in 1:i\n",
    "    tempxy = map(x->evaluate(x, [0.0, 0.0]), vv_xTN[j])\n",
    "    tempxi = map(x->evaluate(x, [delta1, delta2]), vv_xTN[j])\n",
    "    push!(xi1, tempxi[1])\n",
    "    push!(xi2, tempxi[2])\n",
    "    push!(xT, tempxy[1])\n",
    "    push!(yT, tempxy[2])\n",
    "end\n",
    "    "
   ]
  },
  {
   "cell_type": "code",
   "execution_count": 106,
   "metadata": {
    "collapsed": true
   },
   "outputs": [],
   "source": [
    "using PyPlot"
   ]
  },
  {
   "cell_type": "code",
   "execution_count": 140,
   "metadata": {
    "collapsed": false,
    "scrolled": false
   },
   "outputs": [
    {
     "data": {
      "image/png": "[encoded data removed]",
      "text/plain": [
       "PyPlot.Figure(PyObject <matplotlib.figure.Figure object at 0x32af01f90>)"
      ]
     },
     "metadata": {},
     "output_type": "display_data"
    },
    {
     "data": {
      "text/plain": [
       "2-element Array{Any,1}:\n",
       " PyObject <matplotlib.lines.Line2D object at 0x32b11d290>\n",
       " PyObject <matplotlib.lines.Line2D object at 0x32b11d490>"
      ]
     },
     "execution_count": 140,
     "metadata": {},
     "output_type": "execute_result"
    }
   ],
   "source": [
    "last=390\n",
    "xlim(-1.5,1.5)\n",
    "ylim(-1.5,1.5)\n",
    "grid(true)\n",
    "plot(xi1[1:last],xi2[1:last],\"b\",xT[1:last],yT[1:last],\"g\")"
   ]
  },
  {
   "cell_type": "code",
   "execution_count": null,
   "metadata": {
    "collapsed": true
   },
   "outputs": [],
   "source": []
  },
  {
   "cell_type": "code",
   "execution_count": null,
   "metadata": {
    "collapsed": true
   },
   "outputs": [],
   "source": []
  }
 ],
 "metadata": {
  "kernelspec": {
   "display_name": "Julia 0.5.1-pre",
   "language": "julia",
   "name": "julia-0.5"
  },
  "language_info": {
   "file_extension": ".jl",
   "mimetype": "application/julia",
   "name": "julia",
   "version": "0.5.1"
  }
 },
 "nbformat": 4,
 "nbformat_minor": 1
}
