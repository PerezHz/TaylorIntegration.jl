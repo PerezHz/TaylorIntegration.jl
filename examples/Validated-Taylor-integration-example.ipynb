{
 "cells": [
  {
   "cell_type": "markdown",
   "metadata": {},
   "source": [
    "# A validated Taylor integration example: $\\dot{x}=x^2$"
   ]
  },
  {
   "cell_type": "markdown",
   "metadata": {},
   "source": [
    "Here, we will integrate the ODE $\\dot{x}=x^2$, using `ValidatedNumerics.jl`:"
   ]
  },
  {
   "cell_type": "code",
   "execution_count": 1,
   "metadata": {
    "collapsed": false
   },
   "outputs": [
    {
     "data": {
      "text/plain": [
       "Plots.PyPlotBackend()"
      ]
     },
     "execution_count": 1,
     "metadata": {},
     "output_type": "execute_result"
    }
   ],
   "source": [
    "#this is not commutative: if I try:\n",
    "#    using ValidatedNumerics, TaylorIntegration\n",
    "#then the integration crashes\n",
    "\n",
    "using TaylorIntegration, ValidatedNumerics\n",
    "\n",
    "#for plotting:\n",
    "using Plots\n",
    "pyplot()"
   ]
  },
  {
   "cell_type": "markdown",
   "metadata": {},
   "source": [
    "The initial conditions, and some integration parameters:"
   ]
  },
  {
   "cell_type": "code",
   "execution_count": 25,
   "metadata": {
    "collapsed": false
   },
   "outputs": [
    {
     "data": {
      "text/plain": [
       "([3, 3],0,[0.333332, 0.333334],1.0e-10)"
      ]
     },
     "execution_count": 25,
     "metadata": {},
     "output_type": "execute_result"
    }
   ],
   "source": [
    "#note that we have mixed types: Interval{Float64}, Int64, Float64...\n",
    "x0 = @interval 3; t0 = 0; tmax = @interval 0.333333; abstol = 1e-10; order=25\n",
    "x0, t0, tmax, abstol"
   ]
  },
  {
   "cell_type": "markdown",
   "metadata": {},
   "source": [
    "The maximum time, `tmax`, is rigorously below the singularity:"
   ]
  },
  {
   "cell_type": "code",
   "execution_count": 4,
   "metadata": {
    "collapsed": false
   },
   "outputs": [
    {
     "data": {
      "text/plain": [
       "true"
      ]
     },
     "execution_count": 4,
     "metadata": {},
     "output_type": "execute_result"
    }
   ],
   "source": [
    "tmax < 1/3"
   ]
  },
  {
   "cell_type": "markdown",
   "metadata": {},
   "source": [
    "The ODE we're trying to integrate:"
   ]
  },
  {
   "cell_type": "code",
   "execution_count": 5,
   "metadata": {
    "collapsed": false
   },
   "outputs": [
    {
     "data": {
      "text/plain": [
       "f (generic function with 1 method)"
      ]
     },
     "execution_count": 5,
     "metadata": {},
     "output_type": "execute_result"
    }
   ],
   "source": [
    "f(t, x) = x.^2"
   ]
  },
  {
   "cell_type": "markdown",
   "metadata": {},
   "source": [
    "Perform a validated Taylor integration:"
   ]
  },
  {
   "cell_type": "code",
   "execution_count": 26,
   "metadata": {
    "collapsed": false
   },
   "outputs": [
    {
     "name": "stdout",
     "output_type": "stream",
     "text": [
      "  0.005742 seconds (39.65 k allocations: 1.207 MB)\n",
      "  0.147729 seconds (892.85 k allocations: 26.852 MB, 18.47% gc time)\n"
     ]
    }
   ],
   "source": [
    "@time tT, xT = taylorinteg(f, x0, t0, 0.001, order, abstol, maxsteps=500); #warmup lap\n",
    "@time tT, xT = taylorinteg(f, x0, t0, tmax, order, abstol, maxsteps=500);"
   ]
  },
  {
   "cell_type": "markdown",
   "metadata": {},
   "source": [
    "How many steps did the integrator take?"
   ]
  },
  {
   "cell_type": "code",
   "execution_count": 8,
   "metadata": {
    "collapsed": false
   },
   "outputs": [
    {
     "data": {
      "text/plain": [
       "(45,45)"
      ]
     },
     "execution_count": 8,
     "metadata": {},
     "output_type": "execute_result"
    }
   ],
   "source": [
    "length(tT), length(xT)"
   ]
  },
  {
   "cell_type": "markdown",
   "metadata": {},
   "source": [
    "Is the last step rigorously below $1/3$?"
   ]
  },
  {
   "cell_type": "code",
   "execution_count": 9,
   "metadata": {
    "collapsed": false
   },
   "outputs": [
    {
     "data": {
      "text/plain": [
       "true"
      ]
     },
     "execution_count": 9,
     "metadata": {},
     "output_type": "execute_result"
    }
   ],
   "source": [
    "tT[end]<1/3"
   ]
  },
  {
   "cell_type": "markdown",
   "metadata": {},
   "source": [
    "YES!"
   ]
  },
  {
   "cell_type": "markdown",
   "metadata": {},
   "source": [
    "Now, we will compare our numerical solution, to the analytical solution:"
   ]
  },
  {
   "cell_type": "code",
   "execution_count": 10,
   "metadata": {
    "collapsed": false
   },
   "outputs": [
    {
     "data": {
      "text/plain": [
       "exactsol (generic function with 1 method)"
      ]
     },
     "execution_count": 10,
     "metadata": {},
     "output_type": "execute_result"
    }
   ],
   "source": [
    " exactsol(t, x0) = x0./(1.0-x0.*t)"
   ]
  },
  {
   "cell_type": "markdown",
   "metadata": {},
   "source": [
    "At the end of the integration, we are enclosing the analytical solution, although perhaps the error is relatively high:"
   ]
  },
  {
   "cell_type": "code",
   "execution_count": 11,
   "metadata": {
    "collapsed": false
   },
   "outputs": [
    {
     "data": {
      "text/plain": [
       "[-41.8023, 69.9602]"
      ]
     },
     "execution_count": 11,
     "metadata": {},
     "output_type": "execute_result"
    }
   ],
   "source": [
    "exactsol(tT[end], xT[1])-xT[end]"
   ]
  },
  {
   "cell_type": "markdown",
   "metadata": {},
   "source": [
    "Is the analytical solution, at time `tT[end]`, rigorously contained in `xT[end]`?"
   ]
  },
  {
   "cell_type": "code",
   "execution_count": 12,
   "metadata": {
    "collapsed": false
   },
   "outputs": [
    {
     "data": {
      "text/plain": [
       "true"
      ]
     },
     "execution_count": 12,
     "metadata": {},
     "output_type": "execute_result"
    }
   ],
   "source": [
    "exactsol(tT[end], xT[1]) ∈ xT[end]"
   ]
  },
  {
   "cell_type": "markdown",
   "metadata": {},
   "source": [
    "YES!"
   ]
  },
  {
   "cell_type": "markdown",
   "metadata": {},
   "source": [
    "We are now interested in plotting our validated solution:"
   ]
  },
  {
   "cell_type": "code",
   "execution_count": 14,
   "metadata": {
    "collapsed": false
   },
   "outputs": [],
   "source": [
    "tT_hi = map(x->x.hi, tT)\n",
    "tT_lo = map(x->x.lo, tT)\n",
    "xT_hi = map(x->x.hi, xT)\n",
    "xT_lo = map(x->x.lo, xT);"
   ]
  },
  {
   "cell_type": "code",
   "execution_count": 16,
   "metadata": {
    "collapsed": false
   },
   "outputs": [],
   "source": [
    "ts = [log10(tT_lo[2:end]), log10(tT_hi[2:end])]\n",
    "ys = [log10(xT_lo[2:end]), log10(xT_hi[2:end])];"
   ]
  },
  {
   "cell_type": "markdown",
   "metadata": {},
   "source": [
    "Plot $x_\\mathrm{lo}$ vs $t_\\mathrm{lo}$ and $x_\\mathrm{hi}$ vs $t_\\mathrm{hi}$"
   ]
  },
  {
   "cell_type": "code",
   "execution_count": 19,
   "metadata": {
    "collapsed": false
   },
   "outputs": [
    {
     "data": {
      "text/html": [
       "<img src=\"data:image/png;base64,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\" />"
      ]
     },
     "execution_count": 19,
     "metadata": {},
     "output_type": "execute_result"
    }
   ],
   "source": [
    "plot(ts, ys)"
   ]
  },
  {
   "cell_type": "markdown",
   "metadata": {
    "collapsed": true
   },
   "source": [
    "## A multi-dimensional validated Taylor integration:"
   ]
  },
  {
   "cell_type": "markdown",
   "metadata": {},
   "source": [
    "Here, we will integrate once again the ODE $\\dot{x}=x^2$, but using an array of intervals as the initial condition. Our aim is to use the `taylorinteg` method which corresponds to multi-dimensional ODEs:"
   ]
  },
  {
   "cell_type": "code",
   "execution_count": 20,
   "metadata": {
    "collapsed": false
   },
   "outputs": [
    {
     "data": {
      "text/plain": [
       "25"
      ]
     },
     "execution_count": 20,
     "metadata": {},
     "output_type": "execute_result"
    }
   ],
   "source": [
    "q02 = @interval 3 # the initial condition as an interval\n",
    "x02 = [q02, q02] # the initial condition as an array of intervals\n",
    "t02 = 0 # the initial time\n",
    "tmax2 = 0.333333 # the final time\n",
    "abstol2 = 1e-20 # the absolute (local) tolerance\n",
    "order2 = 25 # the order of the Taylor expansion"
   ]
  },
  {
   "cell_type": "markdown",
   "metadata": {},
   "source": [
    "The ODE is the same:"
   ]
  },
  {
   "cell_type": "raw",
   "metadata": {},
   "source": [
    "f(t, x) = x.^2"
   ]
  },
  {
   "cell_type": "code",
   "execution_count": 23,
   "metadata": {
    "collapsed": false
   },
   "outputs": [
    {
     "name": "stdout",
     "output_type": "stream",
     "text": [
      "  0.011435 seconds (79.55 k allocations: 2.418 MB)\n",
      "  0.740708 seconds (5.06 M allocations: 152.380 MB, 12.92% gc time)\n"
     ]
    }
   ],
   "source": [
    "@time tT2, xT2 = taylorinteg(f, x02, t02, 0.001, order2, abstol2, maxsteps=500); #warmup lap\n",
    "@time tT2, xT2 = taylorinteg(f, x02, t02, tmax2, order2, abstol2, maxsteps=500);"
   ]
  },
  {
   "cell_type": "markdown",
   "metadata": {},
   "source": [
    "For each component, is the analytical solution rigorously contained in the numerical solution?"
   ]
  },
  {
   "cell_type": "code",
   "execution_count": 28,
   "metadata": {
    "collapsed": false
   },
   "outputs": [
    {
     "data": {
      "text/plain": [
       "(true,true)"
      ]
     },
     "execution_count": 28,
     "metadata": {},
     "output_type": "execute_result"
    }
   ],
   "source": [
    "exactsol(tT2[end], xT2[1,1]) ∈ xT2[end,1], exactsol(tT2[end], xT2[1,2]) ∈ xT2[end,2]"
   ]
  },
  {
   "cell_type": "markdown",
   "metadata": {},
   "source": [
    "YES!!!!!!!"
   ]
  },
  {
   "cell_type": "markdown",
   "metadata": {},
   "source": [
    "## A multi-dimensional validated integration, with extended precision:"
   ]
  },
  {
   "cell_type": "markdown",
   "metadata": {},
   "source": [
    "Here, we will test the use of `BigFloats` with `TaylorIntegration.jl`. Note that here, `x03` is an `Array{Interval{Float64}}`, `t03` is an `Int64`, `tmax3` is a `BigFloat`, and `abstol3` is a `Float64`. The absolute tolerance `abstol3` is chosen so that `abstol3` $\\approx 10^{-3}$ `eps(BigFloat)` $\\approx 10^{-80}$, and `order3` will be chosen so that `order3` $\\approx -0.5\\log($ `eps(BigFloat)` $)$ $\\approx 88$ (Jorba & Zou, 2005)."
   ]
  },
  {
   "cell_type": "code",
   "execution_count": 42,
   "metadata": {
    "collapsed": false
   },
   "outputs": [
    {
     "data": {
      "text/plain": [
       "90"
      ]
     },
     "execution_count": 42,
     "metadata": {},
     "output_type": "execute_result"
    }
   ],
   "source": [
    "q03 = @interval 3 # the initial condition as a interval: Interval{Float64}\n",
    "x03 = [q03, q03] # the initial condition as an array of intervals: Array{Interval{Float64}}\n",
    "t03 = 0 # the initial time: Int64\n",
    "tmax3 = BigFloat(0.333333) # the final time: BigFloat\n",
    "abstol3 = 1e-80 # the absolute (local) tolerance: Float64\n",
    "order3 = 90 # the order of the Taylor expansion: Int64"
   ]
  },
  {
   "cell_type": "markdown",
   "metadata": {},
   "source": [
    "The ODE is the same:"
   ]
  },
  {
   "cell_type": "raw",
   "metadata": {},
   "source": [
    "f(t, x) = x.^2"
   ]
  },
  {
   "cell_type": "markdown",
   "metadata": {},
   "source": [
    "Once again, we integrate:"
   ]
  },
  {
   "cell_type": "code",
   "execution_count": 43,
   "metadata": {
    "collapsed": false
   },
   "outputs": [
    {
     "name": "stdout",
     "output_type": "stream",
     "text": [
      "  0.842325 seconds (8.10 M allocations: 329.752 MB, 31.51% gc time)\n",
      " 50.991677 seconds (461.44 M allocations: 18.355 GB, 33.20% gc time)\n"
     ]
    }
   ],
   "source": [
    "@time tT3, xT3 = taylorinteg(f, x03, t03, BigFloat(0.001), order3, abstol3, maxsteps=500); #warmup lap\n",
    "@time tT3, xT3 = taylorinteg(f, x03, t03, tmax3, order3, abstol3, maxsteps=500);"
   ]
  },
  {
   "cell_type": "markdown",
   "metadata": {},
   "source": [
    "Is the final time less than $1/3$?"
   ]
  },
  {
   "cell_type": "code",
   "execution_count": 44,
   "metadata": {
    "collapsed": false
   },
   "outputs": [
    {
     "data": {
      "text/plain": [
       "true"
      ]
     },
     "execution_count": 44,
     "metadata": {},
     "output_type": "execute_result"
    }
   ],
   "source": [
    "tT3[end] < 1/3"
   ]
  },
  {
   "cell_type": "markdown",
   "metadata": {},
   "source": [
    "YES!!!!!!!"
   ]
  },
  {
   "cell_type": "markdown",
   "metadata": {},
   "source": [
    "How many steps did the Taylor integrator perform?"
   ]
  },
  {
   "cell_type": "code",
   "execution_count": 45,
   "metadata": {
    "collapsed": false
   },
   "outputs": [
    {
     "data": {
      "text/plain": [
       "(114,114,114)"
      ]
     },
     "execution_count": 45,
     "metadata": {},
     "output_type": "execute_result"
    }
   ],
   "source": [
    "length(tT3), length(xT3[:,1]), length(xT3[:,2])"
   ]
  },
  {
   "cell_type": "markdown",
   "metadata": {},
   "source": [
    "For each component, is the analytical solution rigorously contained in our validated solution?"
   ]
  },
  {
   "cell_type": "code",
   "execution_count": 46,
   "metadata": {
    "collapsed": false
   },
   "outputs": [
    {
     "data": {
      "text/plain": [
       "(true,true)"
      ]
     },
     "execution_count": 46,
     "metadata": {},
     "output_type": "execute_result"
    }
   ],
   "source": [
    "exactsol(tT3[end], xT3[1,1]) ∈ xT3[end,1], exactsol(tT3[end], xT3[1,2]) ∈ xT3[end,2]"
   ]
  },
  {
   "cell_type": "markdown",
   "metadata": {},
   "source": [
    "YES!!!!"
   ]
  },
  {
   "cell_type": "markdown",
   "metadata": {},
   "source": [
    "What is the radius of the enclosing intervals?"
   ]
  },
  {
   "cell_type": "code",
   "execution_count": 50,
   "metadata": {
    "collapsed": false
   },
   "outputs": [
    {
     "data": {
      "text/plain": [
       "(5.680700231345338420790774078362109301040435921707687232711698988215210593764779e-59,5.680700231345338420790774078362109301040435921707687232711698988215210593764779e-59)"
      ]
     },
     "execution_count": 50,
     "metadata": {},
     "output_type": "execute_result"
    }
   ],
   "source": [
    "radius(xT3[end,1]), radius(xT3[end,2])"
   ]
  },
  {
   "cell_type": "markdown",
   "metadata": {},
   "source": [
    "Up until $t \\in [0.333332, 0.333334]$, our numerical solution stays within $\\sim 10^{-58}$ of the analytical solution!"
   ]
  },
  {
   "cell_type": "code",
   "execution_count": null,
   "metadata": {
    "collapsed": true
   },
   "outputs": [],
   "source": []
  }
 ],
 "metadata": {
  "kernelspec": {
   "display_name": "Julia 0.5.1-pre",
   "language": "julia",
   "name": "julia-0.5"
  },
  "language_info": {
   "file_extension": ".jl",
   "mimetype": "application/julia",
   "name": "julia",
   "version": "0.5.1"
  }
 },
 "nbformat": 4,
 "nbformat_minor": 1
}
