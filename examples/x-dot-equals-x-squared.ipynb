{
 "cells": [
  {
   "cell_type": "markdown",
   "metadata": {},
   "source": [
    "# Taylor integration example: $\\dot x=x^2$\n",
    "\n",
    "Here, we will integrate the initial-value problem (IVP) defined by\n",
    "\n",
    "$$\n",
    "\\begin{align}\n",
    "\\dot x &= x^2 \\\\\n",
    "x(0)&=x_0\n",
    "\\end{align}\n",
    "$$\n",
    "\n",
    "Given a real number $A>0$, the restriction of the function $f(x)=x^2$ over the interval $I_A=(-A,A)$ satisfies the Lipschitz condition $|f(x_1)-f(x_2)|=|x_1^2-x_2^2|=|x_1+x_2|\\cdot|x_1-x_2| \\leq 2A|x_1-x_2|$ for every $x_1,x_2 \\in I_A$. Therefore, the Picard-Lindelöf theorem for ordinary differential equations guarantees there exists a $\\delta>0$ such that a solution for this IVP exists and is unique for $t \\in [0,\\delta]$, for any $x_0 \\in I_A$. Note that in this case, it is necessary to restrict the function to a bounded interval in order to obtain a Lipschitz condition, which in turn is necessary to fulfill the conditions of the Picard-Lindelöf theorem.\n",
    "\n",
    "Now, for any initial condition $x_0$, $t_0\\in\\mathbb{R}$ the analytical solution for this problem is:\n",
    "\n",
    "$$\n",
    "x(t)=\\frac{x_0}{1-x_0\\cdot (t-t_0)}\n",
    "$$\n",
    "\n",
    "In particular, the analytical solution exhibits a divergence at $t^*=t_0+1/x_0$; i.e., the solution is guaranteed to exist only for $t \\in [t_0,t_0+1/x_0)$ if $x_0>0$. Otherwise, if $x_0<0$, then the analytical solution \"moves away\" from the singularity, since in this case we have $t^*=t_0+1/x_0<t_0$ (i.e., if $x_0<0$, the singularity is in the \"past\"). How does a numerical integrator behave near this divergence, when $x_0>0$?\n",
    "\n",
    "We will try three methods to integrate this problem:\n",
    "\n",
    "+ Adaptive time-step, 4th-order, Runge-Kutta (`ODE.jl`)\n",
    "+ Taylor method (`TaylorIntegration.jl`)\n",
    "+ Adaptive time-step, Runge-Kutta-Fehlberg 7/8 method (`ODE.jl`)\n",
    "\n",
    "As initial conditions to integrate this IVP, we choose $x_0=3$, $t_0=0$, since then the singularity will be at $t^*=1/3$, and this number is not exactly representable in a binary floating-point format. Thus, any constant time-step numerical integrator should break down when integrating up to $t_\\mathrm{max}=1/3$, or beyond.\n",
    "\n",
    "We start off by including the relevant packages:"
   ]
  },
  {
   "cell_type": "code",
   "execution_count": 1,
   "metadata": {
    "collapsed": false
   },
   "outputs": [],
   "source": [
    "using TaylorIntegration, ODE, Plots, LaTeXStrings"
   ]
  },
  {
   "cell_type": "markdown",
   "metadata": {},
   "source": [
    "The ODE:"
   ]
  },
  {
   "cell_type": "code",
   "execution_count": 2,
   "metadata": {
    "collapsed": false
   },
   "outputs": [
    {
     "data": {
      "text/plain": [
       "diffeq (generic function with 1 method)"
      ]
     },
     "execution_count": 2,
     "metadata": {},
     "output_type": "execute_result"
    }
   ],
   "source": [
    "diffeq(t, x) = x.^2"
   ]
  },
  {
   "cell_type": "markdown",
   "metadata": {},
   "source": [
    "## 1. Adaptive time-step, 4th order, Runge Kutta method\n",
    "\n",
    "We select $x_0=3$, $t_0=0$. Then, the singularity is at $t=1/3$."
   ]
  },
  {
   "cell_type": "code",
   "execution_count": 3,
   "metadata": {
    "collapsed": false
   },
   "outputs": [
    {
     "name": "stdout",
     "output_type": "stream",
     "text": [
      "Warning: dt < minstep.  Stopping.\n",
      "  1.397936 seconds (1.51 M allocations: 64.582 MB, 1.80% gc time)\n",
      "Warning: dt < minstep.  Stopping.\n",
      "  0.000970 seconds (11.54 k allocations: 465.828 KB)\n"
     ]
    }
   ],
   "source": [
    "@time tRK, xRK = ode45(diffeq, 3.0, [0.0, 0.34]); #warmup lap\n",
    "@time tRK, xRK = ode45(diffeq, 3.0, [0.0, 0.34]);"
   ]
  },
  {
   "cell_type": "markdown",
   "metadata": {},
   "source": [
    "Plot $x$ vs $t$ (log-log):"
   ]
  },
  {
   "cell_type": "code",
   "execution_count": 4,
   "metadata": {
    "collapsed": false
   },
   "outputs": [
    {
     "data": {
      "text/html": [
       "<img src=\"data:image/png;base64,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\" />"
      ]
     },
     "execution_count": 4,
     "metadata": {},
     "output_type": "execute_result"
    },
    {
     "name": "stderr",
     "output_type": "stream",
     "text": [
      "sys:1: MatplotlibDeprecationWarning: The set_axis_bgcolor function was deprecated in version 2.0. Use set_facecolor instead.\n"
     ]
    }
   ],
   "source": [
    "pyplot()\n",
    "plot(log10(tRK[2:end]), log10(xRK[2:end]))\n",
    "title!(\"x vs t (log-log)\")\n",
    "xlabel!(L\"\\log_{10}(t)\")\n",
    "ylabel!(L\"\\log_{10}(x(t))\")"
   ]
  },
  {
   "cell_type": "markdown",
   "metadata": {},
   "source": [
    "What is the final state of the system?"
   ]
  },
  {
   "cell_type": "code",
   "execution_count": 5,
   "metadata": {
    "collapsed": false
   },
   "outputs": [
    {
     "data": {
      "text/plain": [
       "(0.33333423758781194,7.125446356124256e17)"
      ]
     },
     "execution_count": 5,
     "metadata": {},
     "output_type": "execute_result"
    }
   ],
   "source": [
    "tRK[end], xRK[end]"
   ]
  },
  {
   "cell_type": "markdown",
   "metadata": {},
   "source": [
    "Does the integrator get past the singularity?"
   ]
  },
  {
   "cell_type": "code",
   "execution_count": 6,
   "metadata": {
    "collapsed": false
   },
   "outputs": [
    {
     "data": {
      "text/html": [
       "true"
      ],
      "text/plain": [
       "true"
      ]
     },
     "execution_count": 6,
     "metadata": {},
     "output_type": "execute_result"
    }
   ],
   "source": [
    "tRK[end]>1/3"
   ]
  },
  {
   "cell_type": "markdown",
   "metadata": {},
   "source": [
    "The answer is yes! So the last value of the solution is meaningless:"
   ]
  },
  {
   "cell_type": "code",
   "execution_count": 7,
   "metadata": {
    "collapsed": false
   },
   "outputs": [
    {
     "data": {
      "text/html": [
       "7.125446356124256e17"
      ],
      "text/plain": [
       "7.125446356124256e17"
      ]
     },
     "execution_count": 7,
     "metadata": {},
     "output_type": "execute_result"
    }
   ],
   "source": [
    "xRK[end] #this value is meaningless"
   ]
  },
  {
   "cell_type": "markdown",
   "metadata": {},
   "source": [
    "How many steps did the RK integrator perform?"
   ]
  },
  {
   "cell_type": "code",
   "execution_count": 8,
   "metadata": {
    "collapsed": false
   },
   "outputs": [
    {
     "data": {
      "text/html": [
       "166"
      ],
      "text/plain": [
       "166"
      ]
     },
     "execution_count": 8,
     "metadata": {},
     "output_type": "execute_result"
    }
   ],
   "source": [
    "length(xRK)-1"
   ]
  },
  {
   "cell_type": "markdown",
   "metadata": {},
   "source": [
    "How does the numerical solution compare to the analytical solution? The analytical solution is:"
   ]
  },
  {
   "cell_type": "code",
   "execution_count": 9,
   "metadata": {
    "collapsed": false,
    "scrolled": true
   },
   "outputs": [
    {
     "data": {
      "text/plain": [
       "exactsol (generic function with 1 method)"
      ]
     },
     "execution_count": 9,
     "metadata": {},
     "output_type": "execute_result"
    }
   ],
   "source": [
    "exactsol(t, x0) = x0./(1.0-x0.*t) #analytical solution"
   ]
  },
  {
   "cell_type": "markdown",
   "metadata": {},
   "source": [
    "The relative difference between the numerical and analytical solution, $\\delta x$, is:"
   ]
  },
  {
   "cell_type": "code",
   "execution_count": 10,
   "metadata": {
    "collapsed": false
   },
   "outputs": [],
   "source": [
    "δxRK = (xRK-exactsol(tRK, 3.0))./exactsol(tRK, 3.0) #numerical error, relative to analytical solution\n",
    ";"
   ]
  },
  {
   "cell_type": "markdown",
   "metadata": {},
   "source": [
    "The $\\delta x$ vs $t$ plot (semilog):"
   ]
  },
  {
   "cell_type": "code",
   "execution_count": 11,
   "metadata": {
    "collapsed": false
   },
   "outputs": [
    {
     "data": {
      "text/html": [
       "<img src=\"data:image/png;base64,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\" />"
      ]
     },
     "execution_count": 11,
     "metadata": {},
     "output_type": "execute_result"
    }
   ],
   "source": [
    "plot(tRK[2:end], log10(abs(δxRK[2:end])))\n",
    "title!(\"Relative error (semi-log)\")\n",
    "xlabel!(L\"\\log_{10}(t)\")\n",
    "ylabel!(L\"\\log_{10}(\\delta x(t))\")"
   ]
  },
  {
   "cell_type": "markdown",
   "metadata": {},
   "source": [
    "This plot means that the error of the numerical solution grows systematically; and at the end of the integration, the error in the numerical solution is"
   ]
  },
  {
   "cell_type": "code",
   "execution_count": 12,
   "metadata": {
    "collapsed": false
   },
   "outputs": [
    {
     "data": {
      "text/html": [
       "5.433622064235371e17"
      ],
      "text/plain": [
       "5.433622064235371e17"
      ]
     },
     "execution_count": 12,
     "metadata": {},
     "output_type": "execute_result"
    }
   ],
   "source": [
    "(xRK[end-1]-exactsol(tRK[end-1], 3.0))"
   ]
  },
  {
   "cell_type": "markdown",
   "metadata": {},
   "source": [
    "## 2. Taylor method\n",
    "\n",
    "Again, we select $x_0=3$, $t_0=0$. The order of the Taylor integration is $28$, and we set the absolute tolerance equal to $10^{-20}$; this value is used during each time-step in order to compute an adaptive step size. We set the maximum number of integration steps equal to the number of steps that the previous integrator did."
   ]
  },
  {
   "cell_type": "code",
   "execution_count": 13,
   "metadata": {
    "collapsed": false
   },
   "outputs": [
    {
     "name": "stderr",
     "output_type": "stream",
     "text": [
      "\u001b[1m\u001b[31mWARNING: Maximum number of integration steps reached; exiting.\u001b[0m\n"
     ]
    },
    {
     "name": "stdout",
     "output_type": "stream",
     "text": [
      "  0.215803 seconds (160.86 k allocations: 8.295 MB)\n",
      "  0.001468 seconds (19.65 k allocations: 2.171 MB)\n"
     ]
    }
   ],
   "source": [
    "@time tT, xT = taylorinteg(diffeq, 3.0, 0.0, 0.34, 28, 1e-20, maxsteps=length(xRK)-1); #warmup lap\n",
    "@time tT, xT = taylorinteg(diffeq, 3.0, 0.0, 0.34, 28, 1e-20, maxsteps=length(xRK)-1);"
   ]
  },
  {
   "cell_type": "code",
   "execution_count": 14,
   "metadata": {
    "collapsed": false
   },
   "outputs": [
    {
     "data": {
      "text/plain": [
       "(0.3333333329479479,2.5948055925168757e9)"
      ]
     },
     "execution_count": 14,
     "metadata": {},
     "output_type": "execute_result"
    }
   ],
   "source": [
    "tT[end], xT[end]"
   ]
  },
  {
   "cell_type": "markdown",
   "metadata": {},
   "source": [
    "How many steps did the Taylor integrator perform?"
   ]
  },
  {
   "cell_type": "code",
   "execution_count": 15,
   "metadata": {
    "collapsed": false
   },
   "outputs": [
    {
     "data": {
      "text/html": [
       "166"
      ],
      "text/plain": [
       "166"
      ]
     },
     "execution_count": 15,
     "metadata": {},
     "output_type": "execute_result"
    }
   ],
   "source": [
    "length(xT)-1"
   ]
  },
  {
   "cell_type": "markdown",
   "metadata": {},
   "source": [
    "Below, we show the $x$ vs $t$ plot (log-log):"
   ]
  },
  {
   "cell_type": "code",
   "execution_count": 16,
   "metadata": {
    "collapsed": false
   },
   "outputs": [
    {
     "data": {
      "text/html": [
       "<img src=\"data:image/png;base64,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\" />"
      ]
     },
     "execution_count": 16,
     "metadata": {},
     "output_type": "execute_result"
    }
   ],
   "source": [
    "plot(log10(tT[2:end]), log10(xT[2:end]))\n",
    "title!(\"x vs t (log-log)\")\n",
    "xlabel!(L\"\\log_{10}(t)\")\n",
    "ylabel!(L\"\\log_{10}(x(t))\")"
   ]
  },
  {
   "cell_type": "markdown",
   "metadata": {},
   "source": [
    "Does the integrator get past the singularity?"
   ]
  },
  {
   "cell_type": "code",
   "execution_count": 17,
   "metadata": {
    "collapsed": false
   },
   "outputs": [
    {
     "data": {
      "text/html": [
       "false"
      ],
      "text/plain": [
       "false"
      ]
     },
     "execution_count": 17,
     "metadata": {},
     "output_type": "execute_result"
    }
   ],
   "source": [
    "tT[end] > 1/3"
   ]
  },
  {
   "cell_type": "markdown",
   "metadata": {},
   "source": [
    "The answer is no! Even if we increase the value of the `maxsteps` keyword in `taylorinteg`, it doesn't get past the singularity!"
   ]
  },
  {
   "cell_type": "markdown",
   "metadata": {},
   "source": [
    "Now, the relative difference between the numerical and analytical solution, $\\delta x$, is:"
   ]
  },
  {
   "cell_type": "code",
   "execution_count": 18,
   "metadata": {
    "collapsed": false
   },
   "outputs": [],
   "source": [
    "δxT = (xT.-exactsol(tT, 3.0))./exactsol(tT, 3.0);"
   ]
  },
  {
   "cell_type": "markdown",
   "metadata": {},
   "source": [
    "The $\\delta x$ vs $t$ plot (logscale):"
   ]
  },
  {
   "cell_type": "code",
   "execution_count": 19,
   "metadata": {
    "collapsed": false
   },
   "outputs": [
    {
     "data": {
      "text/html": [
       "<img src=\"data:image/png;base64,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\" />"
      ]
     },
     "execution_count": 19,
     "metadata": {},
     "output_type": "execute_result"
    }
   ],
   "source": [
    "plot(tT[6:end], log10(abs(δxT[6:end])))\n",
    "title!(\"Relative error (semi-log)\")\n",
    "xlabel!(L\"t\")\n",
    "ylabel!(L\"\\log_{10}(\\delta x(t))\")"
   ]
  },
  {
   "cell_type": "markdown",
   "metadata": {},
   "source": [
    "We observe that, while the execution time is ~10 times longer wrt 4th-order RK, the numerical solution obtained by the Taylor integrator stays within $10^{-12}$ of the analytical solution, for a same number of steps.\n",
    "\n",
    "Now, that happens if we use a higher order Runge Kutta method to integrate this problem?"
   ]
  },
  {
   "cell_type": "markdown",
   "metadata": {
    "collapsed": true
   },
   "source": [
    "## 3. Runge-Kutta-Fehlberg 7/8 method"
   ]
  },
  {
   "cell_type": "markdown",
   "metadata": {},
   "source": [
    "Here we use the Runge-Kutta-Fehlberg 7/8 method, included in `ODE.jl`, to integrate the same problem as before."
   ]
  },
  {
   "cell_type": "code",
   "execution_count": 20,
   "metadata": {
    "collapsed": false
   },
   "outputs": [
    {
     "name": "stdout",
     "output_type": "stream",
     "text": [
      "Warning: dt < minstep.  Stopping.\n",
      "  0.379769 seconds (345.22 k allocations: 15.063 MB, 2.40% gc time)\n",
      "Warning: dt < minstep.  Stopping.\n",
      "  0.001199 seconds (12.76 k allocations: 494.219 KB)\n"
     ]
    }
   ],
   "source": [
    "@time t78, x78 = ode78(diffeq, 3.0, [0.0, 0.34]); #warmup lap\n",
    "@time t78, x78 = ode78(diffeq, 3.0, [0.0, 0.34]);"
   ]
  },
  {
   "cell_type": "markdown",
   "metadata": {},
   "source": [
    "Plot $x$ vs $t$ (log-log):"
   ]
  },
  {
   "cell_type": "code",
   "execution_count": 21,
   "metadata": {
    "collapsed": false,
    "scrolled": false
   },
   "outputs": [
    {
     "data": {
      "text/html": [
       "<img src=\"data:image/png;base64,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\" />"
      ]
     },
     "execution_count": 21,
     "metadata": {},
     "output_type": "execute_result"
    }
   ],
   "source": [
    "plot(log10(t78[2:end]), log10(x78[2:end]))\n",
    "title!(\"x vs t (log-log)\")\n",
    "xlabel!(L\"\\log_{10}(t)\")\n",
    "ylabel!(L\"\\log_{10}(x(t))\")"
   ]
  },
  {
   "cell_type": "markdown",
   "metadata": {},
   "source": [
    "What is the final state of the system?"
   ]
  },
  {
   "cell_type": "code",
   "execution_count": 22,
   "metadata": {
    "collapsed": false
   },
   "outputs": [
    {
     "data": {
      "text/plain": [
       "(0.3333336190078445,1.6711546943686948e18)"
      ]
     },
     "execution_count": 22,
     "metadata": {},
     "output_type": "execute_result"
    }
   ],
   "source": [
    "t78[end], x78[end]"
   ]
  },
  {
   "cell_type": "markdown",
   "metadata": {},
   "source": [
    "Does the integrator get past the singularity?"
   ]
  },
  {
   "cell_type": "code",
   "execution_count": 23,
   "metadata": {
    "collapsed": false
   },
   "outputs": [
    {
     "data": {
      "text/html": [
       "true"
      ],
      "text/plain": [
       "true"
      ]
     },
     "execution_count": 23,
     "metadata": {},
     "output_type": "execute_result"
    }
   ],
   "source": [
    "t78[end]>1/3"
   ]
  },
  {
   "cell_type": "markdown",
   "metadata": {},
   "source": [
    "The answer is yes! So the last value of the solution is meaningless:"
   ]
  },
  {
   "cell_type": "code",
   "execution_count": 24,
   "metadata": {
    "collapsed": false
   },
   "outputs": [
    {
     "data": {
      "text/html": [
       "1.6711546943686948e18"
      ],
      "text/plain": [
       "1.6711546943686948e18"
      ]
     },
     "execution_count": 24,
     "metadata": {},
     "output_type": "execute_result"
    }
   ],
   "source": [
    "x78[end] #this value is meaningless"
   ]
  },
  {
   "cell_type": "markdown",
   "metadata": {},
   "source": [
    "How many steps did the RK integrator perform?"
   ]
  },
  {
   "cell_type": "code",
   "execution_count": 25,
   "metadata": {
    "collapsed": false,
    "scrolled": true
   },
   "outputs": [
    {
     "data": {
      "text/html": [
       "91"
      ],
      "text/plain": [
       "91"
      ]
     },
     "execution_count": 25,
     "metadata": {},
     "output_type": "execute_result"
    }
   ],
   "source": [
    "length(x78)-1"
   ]
  },
  {
   "cell_type": "markdown",
   "metadata": {},
   "source": [
    "The relative difference between the numerical and analytical solution, $\\delta x$, is:"
   ]
  },
  {
   "cell_type": "code",
   "execution_count": 26,
   "metadata": {
    "collapsed": false
   },
   "outputs": [],
   "source": [
    "δx78 = (x78-exactsol(t78, 3.0))./exactsol(t78, 3.0) #error relative to analytical solution\n",
    ";"
   ]
  },
  {
   "cell_type": "markdown",
   "metadata": {},
   "source": [
    "The $\\delta x$ vs $t$ plot (semilog):"
   ]
  },
  {
   "cell_type": "code",
   "execution_count": 27,
   "metadata": {
    "collapsed": false
   },
   "outputs": [
    {
     "data": {
      "text/html": [
       "<img src=\"data:image/png;base64,iVBORw0KGgoAAAANSUhEUgAAAlgAAAGQCAYAAAByNR6YAAAABHNCSVQICAgIfAhkiAAAAAlwSFlzAAAPYQAAD2EBqD+naQAAIABJREFUeJzt3Xl8VNX9//H3TPaFIYQkkJAAAiKoQICCC0tBKRQrIgWRqki0LFa/YrUKYq0ELeKKIi5oVRARpZSfaPX7dUFBRARFARFBUVmSsARIQiDLZJnz+yNkSJhJSMhNJsvr+XjMI5m7zHzubS6+e86559qMMUYA6pWkpCS99tpr2r17t9q3b99gvwOnPP3005o2bZp++umnBnW+16xZo8GDB2vmzJlKTk6u0j6++tsaMGCACgoKtHHjxjr7TqAidl8XADQke/bskc1mK/cKCAhQmzZtNHbsWG3atMnXJbotWrRINptNixYt8nUpTV5mZqYeeugh3XzzzQ0qXDU0ycnJ+uqrr/TWW2/5uhRA/r4uAGiIOnbsqBtuuEGSlJOTo2+++UbLly/XypUrtWrVKg0cONDHFZ7ZnDlzdO+996pNmza+LqXRe+qpp5SRkaF77rnH16VUW9++fbVjxw5FRUX5upQzuvzyy9WrVy/NnDlT1157rWw2m69LQhNGwALOQqdOnTy6Sx555BHNmDFD//jHP/TZZ5/5prBqiI2NVWxsrK/LaPSKior08ssvq1+/furYsaOvy6m20NBQdenSxddlVNkNN9ygu+66S59++qkuv/xyX5eDJowuQsAif/7znyVJ33zzjdf1x48f18yZM3XBBRcoJCREERERGjZsmNatW1elzy8oKND8+fM1bNgwJSQkKCgoSDExMfrjH/+ozZs3l9s2KSlJN910kyTppptuKtelWXYbm82mPXv2SJI+//xz2Ww23XzzzV6/Pz09XQEBAerXr5+lx1XKGKNXX31V/fr1k8PhUGhoqH7zm9/o1Vdf9dg2OTlZNptNa9as0aJFi9SrVy+FhoZq0KBBksp3j/73v/9Vv3791KxZM4/uuYULF+qiiy5SeHi4wsPDddFFF3ntUl2zZo1sNpuSk5O1fv16DR06VBEREVVqIfnggw904MABXXPNNR7rXC6XXn75ZfXt21eRkZEKCQlRfHy8RowYoTVr1nhsv3btWo0YMUJRUVEKCgrSueeeq/vvv1+5ubmV1jt48GA1a9ZM0dHRuvXWW5WXlydJev/993XJJZcoLCxMrVq10rRp01RUVFThZ1mhqudcKgmnc+bMUceOHRUcHKxOnTppzpw5+vXXX2Wz2ZSUlOSxT+l5pmscvkYLFmAxf3/PyyojI0MDBw7U9u3b1a9fP91yyy3Kzs7WO++8o8GDB2v58uW6+uqrK/3cjIwM/fWvf9WAAQN0xRVXqEWLFvr111/17rvv6v/+7/+0du1a9enTR5J09dVXKysrS++8845GjhypxMTEM9bdv39/tW/fXitWrNDzzz+v4ODgcuvffPNNFRUVafz48ZYel1QSrq6//nq9+eabOvfcc3XdddcpMDBQH3/8sf785z/rhx9+0BNPPOGx3+OPP67Vq1dr5MiRGjp0qPz8/MqtX758uT766CNdeeWVuvXWW5Wdne1eN3XqVM2fP19t2rRxh+MVK1bopptu0ubNmzVv3jyP71u/fr0efvhhDR48WJMnT9a+ffvOeGyffPKJJOniiy/2WDdjxgw99thj6tixo6677jo1a9ZMaWlpWrdunVatWuUOjJL0wgsv6LbbblNERIRGjBihmJgYbdq0SbNnz9bq1au1evVqBQYGlvv8jRs36tFHH9WwYcM0ZcoUrV69Wi+88IKys7M1YsQIJSUlaeTIkbrkkkv0/vvv6/HHH1d4eLgeeOCBMx7X2ajuOb/55pv1+uuvq0OHDrrtttvkdDr11FNP6csvv6zwO+Lj45WQkOA+74DPGABVtnv3biPJDBs2zGPdww8/bCSZP/zhDx7rrrvuOiPJ/Otf/yq3/NChQyYhIcFER0ebvLw89/IJEyYYSWb37t3uZfn5+SY1NdXjs7///nsTHh5uhgwZUm75woULjSSzcOFCr8fi7Tvuv/9+I8ksW7bMY/vevXubwMBAc/To0bM+roq89NJLRpK56aabTEFBgXu50+k0I0aMMJLMpk2b3MtnzpxpJJmwsDDz3XffeXxe6bHb7Xbz8ccfe6z/7LPPjCTTtWtXk5WV5V6ekZFhOnfubCSZtWvXupevXr3aSDKSzKuvvnrG4ymrT58+xm63m/z8fI91kZGRJi4uzuTk5HisK3uet2/fbvz9/U2PHj3MkSNHym03Z84cI8k88cQTXutduXKle3lBQYHp3r27sdlsJioqynz11VfuddnZ2SYmJsZERkaW+9+g9LNmzpxZ5WP29rdV3XO+atUqI8kkJiaWOz/79+83rVq1MpLMhAkTvH7/qFGjjCTz66+/VrlmwGp0EQJn4eeff1ZycrKSk5N1zz336LLLLtN9992nVq1a6fHHHy+37ZEjR7Rs2TJddtllmjhxYrl1MTExuueee3T48GGtWrWq0u8MCgryOiD9ggsu0ODBg7V27VoVFhbW6LhKW6eWLFlSbvmOHTv0zTff6IorrlBkZKQk645Lkp599lmFhYXpueeeU0BAgHt5YGCgZs+eLamkBe10kydPVrdu3Sr83JEjR2rIkCEey1977TVJJV2NzZs3dy9v0aKFZs6cKcl7F1OvXr3cXa9VlZqaqoiICAUFBXldHxgY6NHyJsl9niXpxRdfVFFRkebPn6+WLVuW227atGmKjo72en4GDx6skSNHut8HBARozJgxMsZoxIgR7hZPSWrWrJmuvPJKZWRkKDU1tVrHWBXVPeelf4MPPPCAQkND3ctjY2N1xx13VPpdrVq1kqRaOQ6gqugiBM7CL7/8olmzZpVb1rp1a33++efq1KlTueVff/21iouL5XQ6vY5j2bVrlyRp586duvLKKyv93i1btuixxx7TunXrdPDgQY9AdeTIkRoNXO/cubP69u2rDz74QEeOHHHfOVb6H7uy3YNWHVdubq62bdumuLg4Pfroox7rS49x586dHuv69u1b6fFUtL50zFrZLrhSgwcPllRyrk9XNpBU1dGjRxUfH+913bhx4/T888/rwgsv1Lhx4zR48GBdcsklCgkJKbfdhg0bJEkffvih166vgIAAr+fHW9dw6d9HZev279+vc845p8JjWrlypcf5GTRokNfzWaq653zr1q2SSrquT3f6OMDTlf0/AYCvELCAszBs2DB98MEHkqTDhw/rtdde0/Tp03XVVVfpq6++Unh4uHvbjIwMSdIXX3yhL774osLPzMnJqfQ7169fr8suu0ySNHToUJ177rkKDw+XzWbTypUrtXXrVjmdzpoemsaPH6+vvvpKy5Yt02233SZjjN544w21aNFCf/jDHyw/rszMTBljlJaW5hFaz/Q5pS0VFalofXZ2tux2u6Kjo73uY7PZyo3Xqur3eRMSEqL8/Hyv6+bNm6dzzjlHCxcu1D//+U/985//VHBwsMaOHasnn3zSHXBLz3Vpa15VORwOj2WlYwQrW3emltCVK1e6W6TKqixgVfecl27vbXqIM/3vUDqIv2zLF1DX6CIEaig6Olp333237rvvPu3YsUP3339/ufWl/yH729/+JmNMha/SbpKKzJ49W06nU6tWrdK7776rJ598UrNmzVJycrJat25t2fGMGzdOAQEB7lartWvXau/evRo7dmy5bi6rjqv0c3r37l3p56xevdpj3zPdxVfReofDIZfLpcOHD3usS09PlzHGawA5m3mVoqOj3QHpdP7+/rr77ru1fft2paWlaenSpRowYIAWL16s66+/vly9UknoqOwc1ZVFixZ5fPeZ7jKs7jkv3d5bK9ShQ4cq/a7S8+0tzAF1hYAFWOS+++5TXFycnn/+effUB1JJt5LNZqv0zqeq+OWXXxQZGenRZZKbm6tvv/3WY/vScT3FxcXV+p6oqCj9/ve/14YNG/Tzzz+7g1bpxKqlrDquZs2aqWvXrtqxY4eysrJq9FlV1bNnT0nyOhVC6bKq3HlZFd26dVN+fv4Z7ziMi4vTn/70J33wwQfq1KmTVq1a5W6JueiiiySd6ipsiKp7znv06CFJXltH169fX+l3/fjjjwoICGhQ83eh8SFgARYJCQnR9OnTVVhYqIceesi9vHXr1ho7dqzWr1+vxx9/3GtLw8aNGz3mMjpdu3btlJmZqe3bt7uXFRcX6+677/baKlA6DiUlJaXax1I61urll1/W8uXLdc4553iMe7HquKSS2/dzc3M1adIkr12Bu3fvLhdaa2rChAmSpFmzZpXrljp27Ji7m7J0m5r67W9/K0kez8dzOp1eg0JOTo5OnDihgIAA2e0l/0Tfeuut8vf31+233+41qGVlZXnMhVbfVPecl7bgPfjgg+6gKUkHDx70OoVGqYKCAm3evFm/+c1v6CKETzEGC7DQ5MmT9eijj2rx4sW677773DN3P//88/rxxx81bdo0vf7667rkkksUERGhlJQUbdq0Sbt27dKBAwcq/Q/C7bffro8++kj9+/fX2LFjFRwcrDVr1igtLU2DBg3yaBkoHSz99NNPKzMz091dcnoXpjcjRoxQ8+bNNXfuXBUWFmrq1Kleu8esOC5JmjJlijZs2KDXXntNX3zxhYYMGaK4uDgdOnRIO3fu1MaNG7V06VLLnuM3cOBA3X777Zo/f74uvPBCjR49WsYYrVixQqmpqZo6dapljzsaOXKk7rrrLn388cflJhvNy8tTv3791LlzZ/Xu3Vtt27bViRMn9N577+ngwYO6++673V2yF154oZ5//nn95S9/0XnnnacrrrhCHTt21PHjx/Xrr7/qs88+U1JSkhYsWGBJzbWhuud8yJAhuu6667R06VJ169ZNV199tZxOp/7973/roosu0n//+193AC3r888/l9PprNL8a0CtqrUJIIBGqLJ5sErNnz/fSDLjx48vtzw3N9c89thjpnfv3iYsLMyEhISYc845x1x99dVm8eLFprCw0L2tt3mEjDHmP//5j+nVq5cJDQ01UVFRZuzYseaXX36pcPv333/f9OnTx4SEhLjnRTrTd5SaOHGie58ff/yxwuOtznGdybJly8yQIUNMixYtTEBAgGnTpo0ZNGiQefLJJ83hw4fd25XOg7V69Wqvn3OmOcBKvfrqq6ZPnz4mNDTUhIaGmj59+nid5+ps5oIqa/jw4aZFixbl5sIqKCgwjz76qBk6dKiJj483gYGBplWrVmbgwIFm6dKlxuVyeXzOV199ZcaNG2fi4uJMQECAiYqKMr169TL33nuv2bFjR5XqrezceDuvVs2DVaqq59wYYwoLC81DDz1kzjnnHBMYGGg6dOhgHn74YbNx40Yjydxxxx0e+yQlJZnAwECTnp5e5XqB2mAzpg5HRgJAE/TJJ59oyJAhWrJkSbnB6zg7L7/8siZNmuRu1SuVmZmpdu3aacyYMV4fsQTUJQIWANSB4cOHa8+ePdq+fbvXri14OnjwoHsKh1JpaWnq16+fUlNTtXv3biUkJLjX/eMf/9DcuXP1008/eZ2UF6hLjMECgDowb948LV26VGlpaeVCASr2yCOP6P3339eAAQMUExOjffv26b333tPx48eVnJzscR4jIyO1ePFiwhXqBVqwAAD10gcffKC5c+dq69atyszMVHBwsLp3765bb71V1113na/LAypFwAIAALAYAwEAAAAsRsACAACwGAELAADAYg3+LkKXy6X9+/erWbNmZ/UgVgAAgJowxuj48eOKi4tzT8PS4APW/v37ueUZAAD4XEpKiuLj4yU1goDVrFkzSSUH5XA4qr1/dna2EhISznp/ANbhegTqB67F6rnpgwz9v2vPcWcSqREErNJuQYfDUaM/gpruD8A6XI9A/cC1WDUBoUWSVG6oEoPcAQAALNbgW7AAAED9VVBQoL1796q4uNjXpdSI3W5XbGxsuW7AyhCwAABArUhNTdV1112n3NxcX5dimVGjRmnGjBlnfGg7AQsAAFjO5XLpwQcfVEREhJ555hkFBwf7uqQaKSws1ObNmzV//nxJ0t///vdKtydgAQAAyx05ckTffvutZs+ercTERF+XY4lu3bpJkp555hlNnTq10u5CBrkDAADLZWVlSZJ7XqjGomfPnpKkAwcOVLodAQsAAFjO5XJJkvz8/HxcibUCAgIknTq+ihCwAABAk7Znzx4NGjRIzZs3t6w7k4AFAACaNIfDoX/+859aunSpZZ9JwAIAAE3CE088ocmTJ7vfZ2VlKSoqSpLUv39/hYWFWfZd3EUIAADqxK/ZRlkF1n9uRKDUwWE743YTJ05U586d9dhjjykiIkILFy7UyJEjFRkZaXlNBCwAAFDrjuQbnfvvIrmM9Z/tZ5MO3uCvqODKQ1ZERITGjBmjV199VXfeeadeeOEFLVu2zPqCRMACAAB1ICrYpl1j/WutBetM4arU1KlTddVVV6lr166Kjo52T7tgNQIWAACoE1XpxqttXbp0UYcOHTR58mQ99thjtfY9DHIHAABNyqRJk1RUVKQxY8ZIknJzcxUfH69rrrlGP/zwg+Lj4zVjxowafQctWAAAoElZvXq1br31VvekoaGhoUpNTbX0OwhYAACgSdi/f78uu+wyRUZG6sMPP6zV7yJgAQCAJiEuLk47d+6sk+9iDBYAAIDFCFgAAMBydntJxCgsLPRxJdbKz8+XJPn7V94JSBchAACwXFxcnAIDA/Wvf/1LkyZNcg8ob6iKi4uVmpqqZ599VqGhoWrbtm2l2xOwAACA5cLDwzV37lzdddddWr9+va/LsUzv3r21YMECBQYGVrpdnQWsqVOn6t1339XevXu1efNmJSYmSpLS09N144036pdfflFQUJCef/55DRw4sK7KAgAAteTiiy/WRx99pP3798vlcvm6nBqx2+1q0aKFWrZs6e7+rEydBawxY8Zo2rRp6t+/f7nl9957ry6++GJ98MEH+vrrrzVq1Cjt3r27wTclAgCAkpaszp07+7qMOldnAauiVql///vf+vnnnyVJffr0UVxcnD777DMNGTKkrkoDAACwlE/HYB09elSFhYVq3bq1e1n79u21b9++CvdxOp1yOp3u99nZ2eV+VldN9wdgHa5HoH7gWqyeIi93Sja4Qe5z5szRrFmzPJYnJCTU6HNruj8A63A9AvUD12IVXf+cxyKfBqyWLVvK399fBw8edLdi7dmzp9JbH2fMmKG77rrL/T47O1sJCQlKSUmRw+Godg013R+AdbgegfqBa7F6bv4kTyveuK3cMp+3YF1zzTVasGCBkpOT9fXXXystLU2//e1vK9w+KChIQUFBHssdDkeN/ghquj8A63A9AvUD12LV+AcUeSyrs5ncp0yZovj4eKWmpmrYsGHq1KmTJOnRRx/V+vXrde655yopKUlLlizhDkIAANCg1VkL1osvvuh1eatWrfTRRx/VVRkAAAC1jmcRAgAAWIyABQAAYDECFgAAgMUIWAAAABYjYAEAAFiMgAUAAGAxAhYAAIDFCFgAAAAWI2ABAABYjIAFAABgMQIWAACAxQhYAAAAFiNgAQAAWIyABQAAYDECFgAAgMUIWAAAABYjYAEAAFiMgAUAAGAxAhYAAIDFCFgAAAAWI2ABAABYjIAFAABgMQIWAACAxQhYAAAAFiNgAQAAWIyABQAAYDECFgAAgMUIWAAAABYjYAEAAFiMgAUAAGAxAhYAAIDFCFgAAAAWI2ABAABYjIAFAABgMQIWAACAxQhYAAAAFiNgAQAAWIyABQAAYDECFgAAgMUIWAAAABYjYAEAAFiMgAUAAGAxAhYAAIDFCFgAAAAWI2ABAABYjIAFAABgMQIWAACAxQhYAAAAFiNgAQAAWIyABQAAYDECFgAAgMUIWAAAABYjYAEAAFiMgAUAAGAxAhYAAIDFCFgAAAAWI2ABAABYjIAFAABgMQIWAACAxQhYAAAAFiNgAQAAWIyABQAAYDECFgAAgMUIWAAAABYjYAEAAFiMgAUAAGAxAhYAAIDFCFgAAAAWI2ABAABYjIAFAABgMQIWAACAxQhYAAAAFiNgAQAAWIyABQAAYDECFgAAgMUIWAAAABYjYAEAAFiMgAUAAGAxAhYAAIDF6k3Aat++vc477zwlJiYqMTFRy5Yt83VJAAAAZ8Xf1wWUtWzZMiUmJvq6DAAAgBqpNy1YAAAAjUW9asEaP368JKlv37565JFHFB0d7bGN0+mU0+l0v8/Ozi73s7pquj8A63A9AvUD12L1FBUWei409cTevXuNMcYUFBSYadOmmeHDh3vdbubMmUYSL168ePHixYtX/Xhd/5yRZI4dO+bOKzZjjFE9c+DAAXXu3FnHjx/3WOetBSshIUEpKSlyOBzV/q6a7g/AOlyPQP3AtVg9N3+SpxV/bK1jx465z1e96CLMyclRYWGhIiIiJElvvvmmevbs6XXboKAgBQUFeSx3OBw1+iOo6f4ArMP1CNQPXItV4x9Q5LnMB3V4OHTokEaPHq3i4mIZY9ShQwctXrzY12UBAACclXoRsDp06KDNmzf7ugwAAABLME0DAACAxQhYAAAAFiNgAQAAWIyABQAAYDGPQe4ul0tbtmzRxo0bdeDAAeXl5ally5Y677zz1L9/f6+zqwMAAOAUd8D65Zdf9Nxzz+mNN97Q4cOH5efnp4iICAUFBSkrK0u5ubmy2WwaMGCAJk2apD/96U+y22kAAwAAOJ1dkiZPnqwLLrhAW7du1axZs7Rlyxbl5+fr8OHDSk1N1YkTJ5Senq733ntPPXr00LRp03T++edr/fr1vq4fAACg3nG3YG3fvl0dO3ascMOoqCgNHz5cw4cP19y5c7V06VLt2bNHl156aZ0UCgAA0FD4S9JLL71UrZ38/Pw0fvz4WikIAACgoWMQFQAAgMW4ixAAAMBi3EUIAABgMe4iBAAAsBh3EQIAAFjM4y7CN954QyNHjlR4eHiFO3EXIQAAQMU8BlHdeOON+uGHH7xuXFxcLJfLVetFAQAANGR2STpx4oR7gTGmwo03bdpUacsWAAAATgasJ598UuHh4broootks9n01ltv6eOPP1Z6enq5jfPz81VcXOyTQgEAABoKf0lKSkpSfHy8tmzZoq+//lqvvPKKnn76adlsNsXExKhHjx7q2rWr1q9fry5duvi6ZgAAgHrNX5LatWunP//5z5KkFStWaOXKlWrXrp22bt2qrVu3asuWLVq7dq0cDoeefvppnxYMAABQ33nM5L5//37370OHDtXQoUPrtCAAAICGjqnYAQAALGaXpBdeeEFOp7NaO27btk2ffvpprRQFAADQkNkladGiRWrXrp3uvPNOrV+/XoWFhV433r9/v1555RUNGTJEl156qTIzM+u0WAAAgIbAX5I2btyot99+W/PmzdMzzzyjgIAAde7cWdHR0e6HPe/evVvp6emKjIzUhAkTtGTJErVu3drX9QMAANQ77kHuo0aN0qhRo7R792598skn2rRpkw4cOKD8/Hy1a9dOQ4cOVb9+/TRo0CAFBAT4smYAAIB6zeMuwvbt22vixImaOHGiL+oBAABo8DzuIhw5cqTy8vJ8UQsAAECj4BGwfvjhBw0cONDjMTmSVFRUpAULFtRJYQAAAA2VR8DasGGDAgMDddFFF2nHjh2SJJfLpVdeeUWdOnXS7bffXudFAgAANCQeASsqKkqrV6/WxRdfrH79+mn27Nk677zzNGXKFPXr10/btm3zRZ0AAAANhteZ3AMDAzV69GgVFBTogQceUIsWLbR9+3a98cYbPOwZAADgDDwC1vLly9WjRw9de+21+t3vfqc777xTW7Zs0Zo1a3xQHgAAQMPjMU3DtddeqyuuuEILFy5Ur169JEndu3fX5MmT9fPPP+vxxx+v8yIBAAAaEo+AtWHDBvXt27fcshtvvFEJCQkaPXq0du/erf/85z91ViAAAEBD49FFeHq4KjV48GB98cUX2rx5c60XBQAA0JD5S9LatWtlt9vVv39/SZIxRl9++aWOHDmitm3bKjExUZLUtWtXbdiwwXfVAgAANAB2SfrrX/+q77//XpLkdDo1YMAADRgwQFdffbV69+6ttm3b6pFHHpExRtHR0T4tGAAAoL6zS9KuXbt0/vnnS5LmzZun77//Xq+++qq2bt2qDz/8UGPGjNHs2bN1+eWXy+l0+rRgAACA+s4uSXa7XXZ7yXCs5cuXa/bs2ZowYYK6deumIUOGaO7cudq6dat+/PFHPfTQQz4tGAAAoL6zS1KnTp30zTffaN++fdqyZYt++9vfemzYoUMHPfjgg3rjjTfqvEgAAICGxC5JU6ZM0fTp03XJJZcoICBAL7/8steNY2NjdeDAgTotEAAAoKGxS9LkyZO1aNEi/eEPf9Bnn32mgwcPatiwYVq1apUKCwslSenp6XriiSfUoUMHnxYMAABQ37knGh03bpzGjRsnSVqyZInuuece/f73v5ckORwOHTt2THa7XW+99ZZvKgUAAGggPGZylyR/f3899dRTmjZtmt555x3t2bNHDodDI0eO1AUXXFDXNQIAADQoXgNWqdjYWN1yyy11VQsAAECjYJekF154odrzW23btk2ffvpprRQFAADQkNkladGiRWrXrp3uvPNOrV+/3j2w/XT79+/XK6+8oiFDhujSSy9VZmZmnRYLAADQEPhL0saNG/X2229r3rx5euaZZxQQEKDOnTsrOjpaQUFBysrK0u7du5Wenq7IyEhNmDBBS5YsUevWrX1dPwAAQL3jHoM1atQojRo1Snv27NGqVau0adMmHThwQPn5+WrXrp2GDh2qfv36adCgQQoICPBlzQAAAPWaxyD39u3ba+LEiZo4caIv6gEAAGjw7FXdMDMzkzFXAAAAVVBpwDp06JCSkpLUvHlzde3aVV26dFFERISSkpJ08ODBuqoRAACgQak0YF1//fXq1auX9u/fr4MHD+rQoUNKS0tTz549df3119dVjQAAAA1KpQErNTVVU6dOVVhYmHtZWFiY7rjjDqVBJTWvAAAY+klEQVSmptZ6cQAAAA1RpQHL4XDovffe81j+7rvvyuFw1FpRAAAADVmlj8pZvHixbrnlFt1yyy1KSEiQJKWkpKhTp0567bXX6qRAAACAhqbSgNWlSxetWbNG6enp7i7B+Ph4xcTE1ElxAAAADVGlAatUTEwMoQoAAKCKqjwP1ukmTJhgZR0AAACNxlkHrNWrV1tZBwAAQKNRaRehn5+f1+XGGNlstlopCAAAoKGrtAUrNjZWBw8eVHFxcbmXy+VSXFxcXdUIAADQoFQasK688kr9+OOPXtcNGTKkVgoCAABo6CrtIlywYEGF6xYuXGh5MQAAAI3BWQ9yBwAAgHceLViLFy+ucGO73a7mzZurR48eatu2ba0WBgAA0FB5BKykpCT3HYLGGPfysstsNpuuvvpqvf766woNDa2jUgEAABoGjy7Cb7/9Vh07dtSDDz6o7777TgcPHtR3332n5ORkdejQQR9//LFeeuklrVq1Svfee68vagYAAKjXPFqwpk+frkmTJumee+5xL4uJidGFF16ooKAgPfzww/rkk0905MgRzZ8/X88880ydFgwAAFDfebRgrVu3TomJiV437tmzpzZs2CBJ6tu3rw4fPly71QEAADRAHgErOjpaK1as8Lrx8uXLFR0dLUk6fvy4IiIiarc6AACABsiji3DGjBn6y1/+ol9//VUjRoxQdHS0Dh8+rHfeeUeffvqpe26sTz/9VH379q3zggEAAOo7j4A1ZcoUxcbGavbs2frb3/6moqIi+fv7q2fPnnrnnXc0YsQISdLMmTMVEBBQ5wUDAADUd15ncr/qqqt01VVXyeVy6fDhw4qOjpbdXr43sUWLFnVSIAAAQENT4aNytm/frnXr1ikjI0MtW7ZU//79df7559dlbQAAAA2SR8ByOp0aP368VqxYIWOMgoKC5HQ6ZbPZNGbMGL3++usKDAz0Ra0AAAANgsddhPfdd5/ef/99LViwQFlZWcrLy1NWVpYWLFig999/X/fdd58v6gQAAGgwPALWW2+9pTlz5mjSpElyOBySJIfDoUmTJmn27Nl6880367xIAACAhsQjYGVkZKhLly5eN+7SpYsyMjJqpZBdu3bp0ksvVefOndWnTx9t3769Vr4HAACgtnkErC5duuj111/3uvGSJUsqDF81NWXKFE2ePFk//fSTpk+frqSkpFr5HgAAgNrmMcj9H//4h6655hrt2bNHo0ePVqtWrZSenq7//Oc/+vLLL7V8+XLLi0hPT9emTZv00UcfSZJGjx6t//mf/9HPP/+sTp06Wf59AAAAtckjYP3xj3/U22+/rVmzZulvf/ubjDGy2WxKTEzU22+/7Z5o1EopKSmKjY2Vv39JOTabTW3bttW+ffs8ApbT6ZTT6XS/z87OLvezumq6PwDrcD0C9QPXYvUUFRZ6LKt0otGcnBxlZWUpIiJCYWFhtV5gVcyZM0ezZs3yWJ6QkFCjz63p/gCsw/UI1A9ci1V0/XMei2zGGOODUspJT09Xp06dlJGRIX9/fxljFBsbq3Xr1lWpBSshIUEpKSnuux6ro6b7A7AO1yNQP3AtVs/Nn+RpxR9b69ixY+7z5S9J3bp1k81mq9KH2Gw2bd261dLCYmJi1KtXLy1ZskRJSUlasWKF4uPjvY6/CgoKUlBQkMdyh8NRoz+Cmu4PwDpcj0D9wLVYNf4BRZ7LJKl3795VDli15cUXX1RSUpIefvhhORwOLVy40Kf1AAAAnC1/SVq0aJGPy5DOO+88ffnll74uAwAAoMY85sECAABAzRCwAAAALEbAAgAAsBgBCwAAwGIELAAAAIsRsAAAACxGwAIAAKgBb4/EIWABAABYjIAFAABgMQIWAACAxQhYAAAAFiNgAQAAWIyABQAAYDECFgAAgMUIWAAAABYjYAEAAFiMgAUAAFADxstU7gQsAAAAixGwAAAAaoBnEQIAANQBAhYAAEAN0IIFAABgMQa5AwAAWIwWLAAAAIvRggUAAGAxWrAAAAAsRsACAACwGF2EAAAAFqMFCwAAwGIuWrAAAACsRcACAACwGAELAADAYi4vywhYAAAANVBMCxYAAIC1CFgAAAAWI2ABAABYrMjLICwCFgAAQA0QsAAAACxW5OVZOQQsAACAGnAWey4jYAEAANRAAQELAADAWrRgAQAAWCyXgAUAAGCt3CLPZQQsAACAs+Qyhi5CAAAAK50o9L6cgAUAAHCWMp3elxOwAAAAzlJmgfflBCwAAICzlOn08qRnEbAAAADO2oFc78sJWAAAAGcpLceoWYDncgIWAADAWUrLlVqHei4nYAEAAJylPceN2obbPJYTsAAAAM7SD5lG5zUnYAEAAFgiv8jol+NSlwgCFgAAgCV+yJJcRuoS4bmOgAUAAHAW1h5wKchP6hFJCxYAAIAlPt1v1K+VTcH+BCwAAIAaK3IZfXbA6LI4z3AlEbAAAACq7f9SjLILpSsSvEcpAhYAAEA1Ldjh0m+ibOoZRQsWAABAje09bvR/KUZTulYcowhYAAAA1fD4dy41C5DGdfTeeiVJ/nVYDwAAQIO2Md2l539w6cmL7QoPqDhg0YIFAABQBYUuo0mfF6tXlE23X1B5hKIFCwAAoAoe3uzSD5nS11f7yd9eceuVRAsWAADAGT27vVjJ37p0f097hXcOlkXAAgAAqMQLPxTr9vUu3dXNrpm9qhadCFgAAAAV+NdOl279wqU7LrTriYvsstnO3HolMQYLAADAQ5bT6J6NxXr5R6PbL7DrqYurHq4kAhYAAEA57+516S/rinW8UHqhn11TulYvXEkELAAAAEnS4TyjqV8W661fjK5IsGlBfz8lhFcvWJUiYAEAgCbtWIHRop9ceuhblyRpyWA/XdfRVu1Wq7IIWAAAoEn6PsPouR9cen2XS85i6bpONj1+kZ9iQs4+WJUiYAEAgCaj0GW0ck9JsPrsgFFsqHRPd7smdbErLqzmwaoUAQsAADR6B3ON/rXTpQU7XNqfKw1obdOyy/w06hybAs4wK/vZIGABAIBGp6DYaP0ho4/TjD5KNfrmiFGIv3RDJ7tuO9+u7i2tD1VlEbAAAECDZ4zRj8ekj1Jd+ijVaM0Bo5wiKTpY+l0bm267wE9Xt7MpIqh2g1UpAhYAAGiQjuYbrUoz+jitJFSl5EiBdql/a5v+0dOuofF29Wgp2WtwN+DZImABAIB6z2WMdh+Xvjtq9PURo49PdvsZSRe0kMacY9fQeJsGtLYpLKDuA9Xp6kXAat++vYKCghQSEiJJmjFjhq699lofVwUAAHwhy2m0LcPouwyj7zKk7zJK3ucUlayPCZEujyvp9vtdG5vaWHj3n1XqRcCSpGXLlikxMdHXZQAAgDpS5DLadUwng9Sp174TJesD7NL5EVL3SJtGn2NXtxY2dW9pU+sQ1WgS0LpQbwIWAABovNLzTgaoo6eC1A9ZkrO4ZH2bsJIg9aeOdnWPtKl7pE3nRahWplCoC/UmYI0fP16S1LdvXz3yyCOKjo72up3T6ZTT6XS/z87OLvezumq6PwDrcD0C9cPZXItFLiktz6bUHJtScm1KybFpX65Ne3Ns2nHMrvT8kqAU6mfUtblRtwiX/tTWpQsijM5v7lJkkOdn5p2Q8iw5otrl7TzZjDHGB7WUs2/fPrVt21aFhYW6//77tW3bNv3v//6v122Tk5M1a9asOq4QAIAmLjBEimwnRSZILdtKLdtJkW1P/t5Wimgj2f1ObZ+dLmXsk47uk/b/IKVtk1K3SYd/lYzLd8dRi44dOyaHwyHJRwFr8eLFmjt3riTpjjvu0E033eRed+DAAXXu3FnHjx/3uq+3FqyEhASlpKS4D6o6aro/AOtwPQK+YYyUWSDtO9n69HOGU8nPvKrhN9yiAwWBSsm16ajzVFed3WbUJsQoIcwoIdQoPvTU723DSt6H1ps+stpX+m9X2YDlk8O/8cYbdeONN0qScnJylJWVpYiICEnSm2++qZ49e1a4b1BQkIKCPNsRHQ5Hjf5Brun+AKzD9QhYq9hldCBX2nvCaO8Jad/Jn3tPGO09XvJ76R16khTsFyh1G658Beg3MX4aHW5Tu2Y2tQuX2oXb1CZM8m+gY6Pqis/z5aFDhzR69GgVFxfLGKMOHTpo8eLFvi4LAIB6rdhldNQppedJh/ONDudJ6flGh/PLL0vJMUo5IRWV6a+KCFRJWGpm0+Vt7O7g1K5Zyc+gguOKiOimlceOyeEI9t1BNmA+D1gdOnTQ5s2bfV0GAAA+VRqYDp8MR6UhKT3fc9nhfOlovnT6GJ8Ae8kcUdHBUnSwTfFh0sUxdndwahduU9twyRFYeetTdmHtHWdT4fOABQBAY1TsMspw6mSLUkkoOhWSyizLKwlR3gKTv+1UYIoJKQlMPaPsigmWokNsJ3+WhKmYEMkRUP/nh2oqCFgAAFSBy5wMTKVdcWV+lg1MpT+POiXXaYnJ31YaiEoCU1yolNjS7m5xKhumooOl5oEEpoaKgAUAaFKMMTpeKGUVSFlOKavAlPs982Sr0+njmo7kew9MUcGlrUw2tQ6Vukfay4Wk6BApJtim6JCSsU8EpqaBgAUAaFCMMTpRGpAKSp5b5+33TKfxDFEF0rECz6BUKtivJASVdru1CpUudAemsq1MJeEpIkiyE5jgBQELAFCnqhqQyv1eYE4GpZLXmQJSRJAUEWhTRKDUKlQ6L8Jesvy0dWV/bx4oBfsTlmANAhYAoFqMMcopUpnAYyr+vcD7dsUVBKRAu9QiqDQIlQSf6GDpXIe9zHICEuo/AhYANDHGGOUWlR+DlFmLASkqWOrksLnfl113+u8EJDQWBCwAaEBKW4+OF0rZBVJ2oVF2Qfn3x7x2t5UPTEUVBKSAsgHpZMtQy2Cpo8NW8j5IakFAAs6IgAUAdaCg2CjbHYKk4wVl35syAUnKLqjgfWFJkKpo/JFU0oIUcVpAigySOjQ7FZDc67z8HuzHXW6AFQhYAFCBYpfRiaKTQadAOl54KhSVBB5TJjCd9r7M79kFUoGr4u+xSXIElkwS6QiUmgXY3L/Hh0nNAu3u944Am5oFlN3+1PtmAVKQH+EIqA8IWAAaFWOM8orl0W1WtVBU0lpUGorKPvzWm1B/76GofXj5UNQsoCQYlYaiZoHl34f602oENDYELAD1QuHJx4qoZTt9n2WTK9dVSbdZ2cB0KhSVrq9oALZUMjFk89LQUyboRAdLHR2SI8BepVAUHiD52wlFALwjYAE4ay5jlFOoMt1mlY0zOr3bzJQJSFJ+sSSFSHN2qd+HklTs/h6bSgJPszLdYo6AkmWtQ0tCUUXdZqWhqCQwSUGMMQJQBwhYQBNjjJGzWOVafMrfiVbJOKPT1p8o9Hw4bVnBft7HFsWHSY4Iz1DkV5Sr8WNG6tP3Vyq2Rbg7FIUFMFs2gIaFgAU0cMUuo0N5UmqOUVqOlJZrlJojpeWUdLl561IrrGTAtZ/NeyiKDDo5tuhkF1pJt5mtzODrk9uW6VILqGYXWna2S9rxqXq3NHI4CFQAGi4CFlCP5RV5hqa0nJNhKrfk58Hc8mOOAu1SmzCpTWjJw2U7lBlX5G0sUdlQ5OA2fQCwBAEL8AFjSmbOTj0ZntyhKceUW5bhLL9f85O37bcJten8CGloG7vahEnxYTa1CbOpTWjJrNkEJADwLQIWYLEiV0mrUtlWJ3frU+6prrz8U2O4ZVPJYO02oTbFh0kDW9tLgtTJ0FQSoKSwAIITADQEBCygGnIKK++yS8sxOphXfqbtIL9TrU5twqS+0WVanUJLQlTr0OqPVwIA1F8ELEAlXXZHS7vscsp32ZVtdcoqKL9fiyC5W5i6R0rDE+zu4FTa6hQZRJcdADQ1BCw0eoUuowO5FXfVpeYY7c+VnGW67Ow2KTb0VKvTZXH2ktAUfqrVqU2YFMqDbQEAXhCw0KCdKKz47rq0k8sP5ZWfqynET+4uurbh0qWt7O7QVDruqVUIs3QDAM4eAQv1kssYHckv22VnvNxxVzKnU1ktg06Fp15R0oi2dndXXWmAigikyw4AULsIWKhzBcUlXXIVddmVvi87GaafTYor0zU3tIVnq1NcqBRClx0AoB4gYMFS2QWnhaYTp+6uK+2+S88rv0+Y/6lWpw7NpAFlpyg4uTwmWPKjyw4A0EAQsFAlLmOUnqcy45zKd9WVhqcTp3XZRQefmlW8dHoCd6tTqE3x4SUziNNlBwBoTAhYUH7RaV12p4WntFyj/TlSUZmR4v42Ka7MXE7dIk+1OpWGp7gwKciP4AQAaHoIWI2YMUbHClThOKfSVqcj+eX3Cw84NTFm5+bS4Liys4qXBKjoEMlOqxMAAF4RsBqoYlfJ9ANpuUapJ7y3OqXmSLlF5feLCTkVni5p5dnq1CZMcgQSnAAAqAkCVj2UV3QqJHkLTWk5JRNnFpfpsgu0n7rLLj5M6hllLxea4sNsig2VAumyAwCg1hGw6pAxRplOVdhVV7osw1l+P0dpl12YTedHSL9rYy/zKJaSABUVTJcdAAD1BQHLIkUuo4O5lT8EOC1HyivzOBabpFYhp55Z556eoEyrU5swKTyA4AQAQENCwKqCnMIzd9kdzJNcZbrsgvxUbiLMPtH2cg8AbnOyyy6AuZ0AAGh0mnTAMsboqFNSfHd9uN+uzDTXyUHjZSfHlLIKyu8XEXiqy65bC2l4gt2j1allEHM7AQDQVDXagFXoKhkI7q2rruy0Bc7iEOmBTRr7uWS3Fat1yKlWp0Gx9nKhKf7k41jC6LIDAACVaPABy5iSfrnbP8nUERVpf660P9d4PI6ltMsuNsymuBCpV0xJWGphz9PksSP01cfvqGN0M/mfocuuOE/Kzqt0EwBnKTs7u9xPAL7BtVg9peepNJNIks2UfdcApaamKiEhwddlAACAJi4lJUXx8fGSGkHAcrlc2r9/v5o1a3ZWY56ys7OVkJCglJQUORyOWqgQQFVxPQL1A9di9RhjdPz4ccXFxclut0tqBF2EdrvdnRZrwuFw8EcE1BNcj0D9wLVYdc2bNy/33u6jOgAAABotAhYAAIDF/JKTk5N9XYSv+fn5adCgQfL3b/A9pkCDx/UI1A9cizXT4Ae5AwAA1Dd0EQIAAFiMgAUAAGAxAhYAAIDFmkzA2rVrly699FJ17txZffr00fbt2z22OXHihIYNG6aoqChFRET4oEqgaajK9bht2zYNHDhQXbp00YUXXqibb75ZeXk8pwqwUlWuxd27d6t3795KTEzUhRdeqGuuuUaZmZk+qLZhaTIBa8qUKZo8ebJ++uknTZ8+XUlJSR7bBAQEaPr06Vq1alXdFwg0IVW5HoODg/Xss89q586d2rp1q3JycvToo4/WfbFAI1aVazEuLk7r1q3Tli1b9P333ysuLk5MQHBmTeIuwvT0dHXq1EkZGRny9/eXMUaxsbFat26dOnXq5LH9nj17lJiYqKysLB9UCzRu1b0eSz3xxBP6/vvvtWjRororFmjEzuZaLC4u1pQpUxQeHq6nn366jituWJpEC1ZKSopiY2Pdc3nYbDa1bdtW+/bt83FlQNNzNtdjTk6OXn75ZY0cObKuygQavepciwUFBUpMTFRUVJR27dqlWbNm1XW5DU6TCFgAGq6CggJde+21Gjp0qEaNGuXrcoAmKTAwUFu2bNGhQ4fUpUsXvfjii74uqd5rEgErISFBBw4cUFFRkaSSp17v27dPbdu29XFlQNNTneuxsLBQ1157rWJjYzVv3ry6LhVo1M7mv42BgYG66aab9Prrr9dVmQ1WkwhYMTEx6tWrl5YsWSJJWrFiheLj4ysd7wGgdlT1eiwqKtK4ceMUGRmpl156STabzRflAo1WVa/FvXv3Kjc3V5Lkcrm0fPlyde/evc7rbWiaxCB3Sfrxxx+VlJSko0ePyuFwaOHCherWrZseeOABxcXF6ZZbbpEkde/eXYcPH9ahQ4cUFxenwYMHk9QBi1XlenzjjTd0ww03qHv37u5w1a9fPz333HM+rh5oPKpyLf73v//V3//+d0klAatXr1566qmn1LJlSx9XX781mYAFAABQV5pEFyEAAEBdImABAABYjIAFAABgMQIWAACAxQhYAAAAFiNgAQAAWIyABQAAYDECFgAAgMUIWACatD179ig5OVnZ2dm+LgVAI0LAAtCkrVq1So899pjCw8N9XQqARoSABaBJ27Jliy644ALZ7fxzCMA6/r4uAAB8JTY2VgcPHpQk9wOlFy9erPHjx/uyLACNAA97BtBkbdy4Ub/73e908803a9y4cZKk888/Xw6Hw8eVAWjoaMEC0GS1a9dOx48f1/Dhw3XxxRf7uhwAjQiDDgA0WVu3bpUk9ejRw8eVAGhsCFgAmqytW7cqJiZGrVu39nUpABoZAhaAJmvLli20XgGoFQQsAE3Wzp071bVrV1+XAaARImABaLIcDofWr1+vNWvWaMOGDSosLPR1SQAaCaZpANBkrV+/XlOmTNHOnTvl5+enEydOyN+fm6sB1BwBCwAAwGJ0EQIAAFiMgAUAAGCx/w/f3oUYt3Nb+gAAAABJRU5ErkJggg==\" />"
      ]
     },
     "execution_count": 27,
     "metadata": {},
     "output_type": "execute_result"
    }
   ],
   "source": [
    "plot(t78[2:end], log10(abs(δx78[2:end])))\n",
    "title!(\"Relative error (semi-log)\")\n",
    "xlabel!(L\"t\")\n",
    "ylabel!(L\"\\log_{10}(\\delta x(t))\")"
   ]
  },
  {
   "cell_type": "markdown",
   "metadata": {},
   "source": [
    "This time, the RKF 7/8 integrator is \"only\" twice as fast as the Taylor integrator, but the error continues to be greater than the error from the latter by several orders of magnitude."
   ]
  },
  {
   "cell_type": "markdown",
   "metadata": {},
   "source": [
    "## 4. Adaptive 4th-order RK, stringer tolerance"
   ]
  },
  {
   "cell_type": "markdown",
   "metadata": {},
   "source": [
    "As a last example, we will integrate once again our problem using a 4th-order adaptive RK integrator, but imposing a stringer tolerance:"
   ]
  },
  {
   "cell_type": "code",
   "execution_count": 28,
   "metadata": {
    "collapsed": false
   },
   "outputs": [
    {
     "name": "stdout",
     "output_type": "stream",
     "text": [
      "Warning: dt < minstep.  Stopping.\n",
      "  0.127591 seconds (383.26 k allocations: 16.016 MB, 6.19% gc time)\n",
      "Warning: dt < minstep.  Stopping.\n",
      "  0.029600 seconds (335.10 k allocations: 13.837 MB, 31.90% gc time)\n"
     ]
    }
   ],
   "source": [
    "@time tRK_, xRK_ = ode45(diffeq, 3.0, [0.0, 0.34], abstol=1e-8, reltol=1e-8 ); #warmup lap\n",
    "@time tRK_, xRK_ = ode45(diffeq, 3.0, [0.0, 0.34], abstol=1e-8, reltol=1e-8 );\n",
    ";"
   ]
  },
  {
   "cell_type": "markdown",
   "metadata": {},
   "source": [
    "Now, the integrator takes 10 times longer to complete the integration than the Taylor method."
   ]
  },
  {
   "cell_type": "markdown",
   "metadata": {},
   "source": [
    "Does it get past the singularity?"
   ]
  },
  {
   "cell_type": "code",
   "execution_count": 29,
   "metadata": {
    "collapsed": false
   },
   "outputs": [
    {
     "data": {
      "text/html": [
       "true"
      ],
      "text/plain": [
       "true"
      ]
     },
     "execution_count": 29,
     "metadata": {},
     "output_type": "execute_result"
    }
   ],
   "source": [
    "tRK_[end] > 1/3"
   ]
  },
  {
   "cell_type": "markdown",
   "metadata": {},
   "source": [
    "Yes! So, once again, the last value reported by the integrator is completely meaningless. But, has it attained a higher precision than the Taylor method? Well, let's calculate once again the numerical error relative to the analytical solution:"
   ]
  },
  {
   "cell_type": "code",
   "execution_count": 30,
   "metadata": {
    "collapsed": false
   },
   "outputs": [],
   "source": [
    "δxRK_ = (xRK_-exactsol(tRK_, 3.0))./exactsol(tRK_, 3.0);"
   ]
  },
  {
   "cell_type": "markdown",
   "metadata": {},
   "source": [
    "And now, let's plot this relative error vs time:"
   ]
  },
  {
   "cell_type": "code",
   "execution_count": 31,
   "metadata": {
    "collapsed": false
   },
   "outputs": [
    {
     "data": {
      "text/html": [
       "<img src=\"data:image/png;base64,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\" />"
      ]
     },
     "execution_count": 31,
     "metadata": {},
     "output_type": "execute_result"
    }
   ],
   "source": [
    "plot(tRK_[2:end], log10(abs(δxRK_[2:end])))\n",
    "title!(\"Relative error (semi-log)\")\n",
    "xlabel!(L\"t\")\n",
    "ylabel!(L\"\\log_{10}(\\delta x(t))\")\n",
    "ylims!(-20,20)"
   ]
  },
  {
   "cell_type": "markdown",
   "metadata": {},
   "source": [
    "The numerical error has actually gotten worse! `TaylorIntegration.jl` is indeed a really competitive package to integrate ODEs."
   ]
  },
  {
   "cell_type": "code",
   "execution_count": null,
   "metadata": {
    "collapsed": true
   },
   "outputs": [],
   "source": []
  }
 ],
 "metadata": {
  "kernelspec": {
   "display_name": "Julia 0.5.1-pre",
   "language": "julia",
   "name": "julia-0.5"
  },
  "language_info": {
   "file_extension": ".jl",
   "mimetype": "application/julia",
   "name": "julia",
   "version": "0.5.1"
  }
 },
 "nbformat": 4,
 "nbformat_minor": 0
}
